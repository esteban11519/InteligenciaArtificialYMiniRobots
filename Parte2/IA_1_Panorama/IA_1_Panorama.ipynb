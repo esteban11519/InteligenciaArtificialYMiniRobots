{
 "cells": [
  {
   "cell_type": "markdown",
   "id": "93354ab9-4efd-4f00-a2ae-c7870816b9c6",
   "metadata": {},
   "source": [
    "<p style=\"font-size:300%; background-color:pink; color:blue; text-align:center;line-height : 80px; margin : 0; padding : 0;\">\n",
    "Panorama de la IA</p>\n",
    "<p style=\"font-size:240%; background-color:pink; color:red; text-align:center;line-height : 60px; margin : 0; padding : 0;\"> Inteligencia Artificial y mini-robots</p>\n",
    "\n",
    "<p style=\"font-size:210%; text-align:center; line-height : 40px;  margin-top : 0; margin-bottom : 0; \"> \n",
    "  <br>Prof. José J. Martínez P. (josejesusmp@gmail.com)\n",
    "</p>\n",
    "\n",
    "\n",
    "<p style=\"font-size:180%; text-align:center; line-height : 30px;  margin-top : 0; margin-bottom : 0; \"> <br><br>Ingeniería Mecánica, Sistemas y Electrónica</p>\n",
    "<p style=\"font-size:180%; text-align:center; line-height : 30px; margin-top : 0; \"> Facultad de Ingeniería</p>\n",
    "<p style=\"font-size:160%; text-align:center; line-height : 30px; margin-top : 0; \"> Universidad Nacional de Colombia Sede Bogotá</p>\n",
    "<br>\n",
    "<img src=\"figs/Escudo_UN.png\",width=100,height=100>\n",
    "<p style=\"font-size:160%; text-align:center; line-height : 30px; margin-top : 0; \"> <br>2022</p>"
   ]
  },
  {
   "cell_type": "markdown",
   "id": "5c3cb897",
   "metadata": {},
   "source": [
    "## Ejercicios y problemas\n",
    "\n",
    "1. Dé una definición propia de inteligencia humana.\n",
    "2. Dé una definición propia de inteligencia artificial.\n",
    "3. Vea los videos en https://www.youtube.com/watch?v=kOKdeHpU2Bg y\n",
    "https://www.youtube.com/watch?v=JsmKUCiPHUY&t=7s . Haga un análisis de lo discutido\n",
    "en el documento y los videos.\n",
    "4. Lea un artículo sobre los robots de Braitenberg, y escriba un programa que efectúe los\n",
    "comportamientos reactivos de estos robots.\n",
    "5. Imagínese un robot que incluya componentes de cada uno de los ejes del modelo de\n",
    "VA.\n"
   ]
  },
  {
   "cell_type": "markdown",
   "id": "ac366294",
   "metadata": {},
   "source": [
    "## Desarrollo\n",
    "\n",
    "A continuación, se desarrollan los ejercicios y problemas propuestos:"
   ]
  },
  {
   "cell_type": "markdown",
   "id": "60ec71cc",
   "metadata": {},
   "source": [
    "### 1. Definición propia de inteligencia humana\n",
    "\n",
    "La inteligencia es la utilización recursiva de los recursos que se tengan para responder a un estímulo de manera satisfactoria en un determinado periodo de tiempo."
   ]
  },
  {
   "cell_type": "markdown",
   "id": "30498204",
   "metadata": {},
   "source": [
    "### 2. Definición propia de Inteligencia Artificial\n",
    "\n",
    "La Inteligencia Artificial (IA) es la abstracción de las reglas por las que se rigen los seres vivos para sobrevivir y solucionar problemas en un determinado tiempo. "
   ]
  },
  {
   "cell_type": "markdown",
   "id": "39561bf9",
   "metadata": {},
   "source": [
    "### 3. Análisis de videos y Documento\n",
    "\n",
    "Martínez\n",
    " (2022) expone en su material de clase el espacio de la vida artificial conformado por tres ejes: Evolución, Replicación y Aprendizaje. En la misma línea de ideas, WION\n",
    " (2021) y Дмитрий Кикоть (2020) presentan avances realizados en algoritmos y tecnologías como Xenobots que mediante la utilización de células vivas buscan replicar los espacios de la Vida Artificial enfocándose en la reproducción. Según Martínez (2022) Von\n",
    " Newmann se dio cuenta de la potencialidad que tenía el modelo celular autómata y frutos de esas ideas se están viendo en la actualidad.\n",
    "\n",
    "Según estos planteamientos, se deduce que la electrónica de estado sólido por sí misma permitiría avanzar en la Evolución y en el aprendizaje. Sin embargo, la replicación estaría limitada por falta de autonomía de cada parte que constituye un sistema robótico. Además, que los materiales usados tradicionalmente no poseen las características elásticas para modificarse según el entorno. \n",
    "\n",
    "Finalmente, no está de más avanzar paulatinamente en cada eje de la vida artificial por separado. Con el transcurso del tiempo se observa que la tecnología permite una convergencia de avances dando así capacidades complementarias en los sistemas. En general, para tratar de emular el sistema complejo de la vida; para ello, se puede avanzar de manera separada en cada eje y en caso final no estar sesgado con el paradigma de cómo funciona la vida ante la oportunidad de avanzar y hacer realidad los avances parciales."
   ]
  },
  {
   "cell_type": "markdown",
   "id": "041d8296",
   "metadata": {},
   "source": [
    "### 5. Robot con características en cada eje del modelo de VA. \n",
    "\n",
    "Los tres ejes de la Vida Artificial que propone Martínez (2022) son la Evolución, La Replicación y el Aprendizaje. A partir de esto, me imagino un robot de la siguiente forma: \n",
    "\n",
    "Por parte de evolución: El robot debe ser programado en software reprogramable, debe tener una programación base que contemple la ética y debe tener una información básica que le permita reiniciar en caso de que algo del sistema falle. \n",
    "\n",
    "Sobre replicación: Debe poder tener varias formas de proceder ante las distintas eventualidades e ir guardando información sobre la manera en la que se desempeñó. Cuando se tenga un número considerable de experiencia escoger aquellas en las que tuvo éxito. Las estrategias que generaron mejores resultados se pueden almacenar y tenerlas disponibles para las próximas generaciones. Sin embargo, en ningún caso se deben colocar como absolutas las experiencias aprendidas. Finalmente, se puede tener una planta con formas predeterminadas de robots cuyo fuerte de actualizar son las reglas de actuación y contemplar la posibilidad de realizar cambios en las piezas. \n",
    "\n",
    "En aprendizaje: Un robot con características de aprendizaje podrá aprender de manera matemática las acciones que más le den resultado. En este sentido, se podría plantear la robótica como la especialización en tareas complementarias al trabajo humano y que los robots se especialicen en estas. Por lo tanto, el aprendizaje robótico se debe centrar en tareas y no en igualar las acciones del ser humano que llevan millones de años evolucionando."
   ]
  },
  {
   "cell_type": "markdown",
   "id": "aa140759",
   "metadata": {},
   "source": [
    "## Referencias\n",
    "\n",
    "Martínez Páez, J. J. (2022). 1. Panorama de la IA. 2023251-1 Inteligencia Artificial y Mini-Robots. Universidad Nacional de Colombia. \n",
    "\n",
    "WION (Director). (2021, noviembre 30). Gravitas: These robots can produce babies | «Xenobots» capable of «self-replicating». https://www.youtube.com/watch?v=JsmKUCiPHUY\n",
    "\n",
    "Дмитрий Кикоть (Director). (2020, enero 16). Designing reconfigurable organisms. https://www.youtube.com/watch?v=kOKdeHpU2Bg\n",
    "\n"
   ]
  }
 ],
 "metadata": {
  "kernelspec": {
   "display_name": "Python 3 (ipykernel)",
   "language": "python",
   "name": "python3"
  },
  "language_info": {
   "codemirror_mode": {
    "name": "ipython",
    "version": 3
   },
   "file_extension": ".py",
   "mimetype": "text/x-python",
   "name": "python",
   "nbconvert_exporter": "python",
   "pygments_lexer": "ipython3",
   "version": "3.8.10"
  }
 },
 "nbformat": 4,
 "nbformat_minor": 5
}
