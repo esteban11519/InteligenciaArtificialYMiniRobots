{
 "cells": [
  {
   "cell_type": "markdown",
   "metadata": {},
   "source": [
    "## Enunciado\n",
    "\n",
    "1. Observe sus comportamientos en la casa, en la universidad y en el medio de transporte que\n",
    "utiliza. Encuentre, para cada uno de estos escenarios sus reglas básicas.\n",
    "\n",
    "2. Tome el plano de un barrio o un pueblo y encuentre los vértices de una vecindad de cada\n",
    "polígono que se presenta de una vecindad de Voronoi.\n",
    "\n",
    "3. Imprima un AC 1D en una impresora 3D.\n",
    "\n",
    "4. Usted puede plantear un posible problema y su solución a través de AC.\n",
    "\n",
    "5. Suponga que tiene un AC 2D, con un retículo cuadrado de 10.000 Celdas. El alfabeto, o conjunto de estados w = {Np, Ps, Cs, Cns, Ct, Pac}. Inicialmente el retículo se carga con 5.000 Ps distribuidos uniformemente y con 5 Cs y 5 Cns, también distribuidas aleatoriamente. Se usa la vecindad de Moore.\n",
    "\n",
    "- Np = No hay nada en la celda \n",
    "- Ps = Personas sanas\n",
    "- Cs = Persona con Covid-19 sintomática\n",
    "- Cns = Persona con Covid-19 asintomática \n",
    "- Ct = Persona con Covid-19 en cuarentena o en cuidados médicos \n",
    "- Pac = Persona curada con anticuerpos \n",
    "- M = Persona muerta.\n",
    "\n",
    "Reglas:\n",
    "\n",
    "* Si Ps tiene n vecinos pasa con probabilidad 0. \n",
    "* n a ser Cns con probabilidad 0.4; o Cs con probabilidad 0.7.\n",
    "* Cs después de 7 ciclos pasa a Ct.\n",
    "* Cns después de 30 ciclos pasa a Pa.\n",
    "* Ct después de 20 ciclos con probabilidad 0.8 pasa a Pa. \n",
    "* Con probabilidad 0.2 pasa a M, que no se representa en el retículo.\n",
    "\n",
    "Una vez se han ejecutado estas reglas en paralelo, desplaza cada celda a una celda Norte,\n",
    "Sur, Este u oeste con probabilidad 0.25, si la celda está vacía. Se debe llevar el número de\n",
    "ciclos para las celdas Cs, Cns y Ct. Se debe llevar el conteo de M. En cada ciclo se debe\n",
    "llevar el conteo de cada tipo de celda.\n",
    "Con la simulación se busca responder las preguntas siguientes:\n",
    "¿Después de cuántos ciclos se estabiliza la población? ¿Cuántas celdas de cada estado\n",
    "quedan? ¿Cuántos muertos hubo?"
   ]
  },
  {
   "cell_type": "markdown",
   "metadata": {},
   "source": [
    "## Desarrollo\n",
    "\n",
    "### Reglas básicas en la Casa, Univesidad y en bicicleta\n",
    "\n",
    "Según los diferentes entornos, estas son las reglas básicas que se identifican:\n",
    "\n",
    "#### En la casa\n",
    "\n",
    "* Alimentarse.\n",
    "* Mantener el orden.\n",
    "* Atender los requerimiento universitarios.\n",
    "* Leer y orar.\n",
    "\n",
    "#### En la Universidad\n",
    "* Ir a la capellanía y orar.\n",
    "* Poner atención a clase y escribir.\n",
    "* Socializar.\n",
    "\n",
    "#### En la bicicleta\n",
    "\n",
    "* No ser atropellado.\n",
    "* No atropellar a nadie.\n",
    "* Pedalear según el nivel de agotamiento.\n",
    "* Respetar las normas de tránsito."
   ]
  }
 ],
 "metadata": {
  "language_info": {
   "name": "python"
  },
  "orig_nbformat": 4
 },
 "nbformat": 4,
 "nbformat_minor": 2
}
